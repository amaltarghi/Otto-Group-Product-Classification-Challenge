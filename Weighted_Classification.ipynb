{
 "cells": [
  {
   "cell_type": "code",
   "execution_count": 14,
   "metadata": {
    "collapsed": false
   },
   "outputs": [],
   "source": [
    "import numpy as np \n",
    "import pandas as pd \n",
    "\n",
    "#read the submission files\n",
    "res1 = pd.read_csv(r\"C:\\Users\\GEOL05\\Desktop\\Master AIC\\Project-TC1\\otto.csv\")\n",
    "\n",
    "res2 = pd.read_csv(r\"C:\\Users\\GEOL05\\Desktop\\Master AIC\\Project-TC1\\otto1.csv\")\n",
    "res3 = pd.read_csv(r\"C:\\Users\\GEOL05\\Desktop\\Master AIC\\Project-TC1\\otto2.csv\")\n",
    "res4 = pd.read_csv(r\"C:\\Users\\GEOL05\\Desktop\\Master AIC\\Project-TC1\\otto3.csv\")\n",
    "res5 = pd.read_csv(r\"C:\\Users\\GEOL05\\Desktop\\Master AIC\\Project-TC1\\otto4.csv\")\n",
    "\n",
    "class_range = range(1, 10)\n",
    "\n",
    "for num in class_range:\n",
    "    col_name = str(\"Class_{}\".format(num))\n",
    "    res1[col_name] = 0.2* res1[col_name] + 0.2* res2[col_name] + 0.2* res3[col_name]+ 0.2* res4[col_name]+ 0.2* res5[col_name]\n",
    "\n",
    "res1.to_csv('wighted_res.csv', index=False) "
   ]
  },
  {
   "cell_type": "code",
   "execution_count": null,
   "metadata": {
    "collapsed": true
   },
   "outputs": [],
   "source": []
  }
 ],
 "metadata": {
  "anaconda-cloud": {},
  "kernelspec": {
   "display_name": "Python [Root]",
   "language": "python",
   "name": "Python [Root]"
  },
  "language_info": {
   "codemirror_mode": {
    "name": "ipython",
    "version": 3
   },
   "file_extension": ".py",
   "mimetype": "text/x-python",
   "name": "python",
   "nbconvert_exporter": "python",
   "pygments_lexer": "ipython3",
   "version": "3.5.2"
  }
 },
 "nbformat": 4,
 "nbformat_minor": 0
}
