{
 "cells": [
  {
   "cell_type": "markdown",
   "metadata": {},
   "source": []
  },
  {
   "cell_type": "code",
   "execution_count": 4,
   "metadata": {
    "collapsed": false
   },
   "outputs": [],
   "source": [
    "\n",
    "import numpy as np \n",
    "import pandas as pd \n",
    "import seaborn as sb\n",
    "import xgboost as xgb\n",
    "\n",
    "\n",
    "from subprocess import check_output\n",
    "#print(check_output([\"ls\", \"../input\"]).decode(\"utf8\"))"
   ]
  },
  {
   "cell_type": "code",
   "execution_count": 7,
   "metadata": {
    "collapsed": false
   },
   "outputs": [],
   "source": [
    "#explore the data\n",
    "\n",
    "\n",
    "train = pd.read_csv(\"/home/amal/Bureau/train.csv\")\n",
    "#print(train.head())\n",
    "\n",
    "test = pd.read_csv(\"/home/amal/Bureau/test.csv\")"
   ]
  },
  {
   "cell_type": "code",
   "execution_count": 8,
   "metadata": {
    "collapsed": false
   },
   "outputs": [
    {
     "name": "stderr",
     "output_type": "stream",
     "text": [
      "/usr/local/lib/python2.7/dist-packages/ipykernel/__main__.py:6: FutureWarning: order is deprecated, use sort_values(...)\n"
     ]
    },
    {
     "data": {
      "text/plain": [
       "<matplotlib.axes._subplots.AxesSubplot at 0x7f396b981dd0>"
      ]
     },
     "execution_count": 8,
     "metadata": {},
     "output_type": "execute_result"
    }
   ],
   "source": [
    "#sum features\n",
    "featuresSum = train.sum()\n",
    "#print(featuresSum)\n",
    "#print(type(train))\n",
    "#plot the sum of features in desceding order\n",
    "featuresSum.drop(['target', 'id']).order().plot(kind='barh', figsize=(8,16))"
   ]
  },
  {
   "cell_type": "code",
   "execution_count": 9,
   "metadata": {
    "collapsed": false
   },
   "outputs": [
    {
     "data": {
      "text/plain": [
       "<matplotlib.axes._subplots.AxesSubplot at 0x7f396b981dd0>"
      ]
     },
     "execution_count": 9,
     "metadata": {},
     "output_type": "execute_result"
    }
   ],
   "source": [
    "#Clases are String like \"Class_1\" => we map them as numbers from 0-8 (9 classes)\n",
    "\n",
    "class_range = range(1, 10)\n",
    "class_dict = {}\n",
    "\n",
    "for n in class_range:\n",
    "    class_dict['Class_{}'.format(n)] = n-1\n",
    "\n",
    "#print(class_dict)\n",
    "#print(train.head())\n",
    "train['target'] = train['target'].map(class_dict)\n",
    "#print(train['target'].head())\n",
    "\n",
    "#next we plot the count for each class unsing seaborn libary\n",
    "sb.countplot(x='target', data= train)"
   ]
  },
  {
   "cell_type": "code",
   "execution_count": 11,
   "metadata": {
    "collapsed": true
   },
   "outputs": [],
   "source": [
    "#next we create training and testing sets\n",
    "X_train = train.drop([\"id\", \"target\"], axis=1)\n",
    "Y_train = train[\"target\"].copy()\n",
    "X_test = test.drop(\"id\", axis = 1).copy()"
   ]
  },
  {
   "cell_type": "code",
   "execution_count": 12,
   "metadata": {
    "collapsed": true
   },
   "outputs": [],
   "source": [
    "# we use the training and test sets to make a prediction based on Boosted Trees => library XgBoost\n",
    "# http://xgboost.readthedocs.io/en/latest/model.html\n",
    "\n",
    "params = {\"objective\": \"multi:softprob\", \"eval_metric\":\"mlogloss\", \"num_class\": 9}\n",
    "\n",
    "T_train_xgb = xgb.DMatrix(X_train, Y_train)\n",
    "X_test_xgb  = xgb.DMatrix(X_test)\n",
    "\n",
    "#number of iterations - initial 20, \n",
    "gbm = xgb.train(params, T_train_xgb, 50)\n",
    "Y_pred = gbm.predict(X_test_xgb)"
   ]
  },
  {
   "cell_type": "code",
   "execution_count": 14,
   "metadata": {
    "collapsed": true
   },
   "outputs": [],
   "source": [
    "#Make a submission based on model \"sample_submission.csv\"\n",
    "\n",
    "submission = pd.DataFrame({ \"id\": test[\"id\"]})\n",
    "\n",
    "i = 0\n",
    "\n",
    "for num in class_range:\n",
    "    col_name = str(\"Class_{}\".format(num))\n",
    "    submission[col_name] = Y_pred[:,i]\n",
    "    i = i + 1\n",
    "    \n",
    "submission.to_csv('/home/amal/Bureau/otto1.csv', index=False)"
   ]
  }
 ],
 "metadata": {
  "kernelspec": {
   "display_name": "Python 2",
   "language": "python",
   "name": "python2"
  },
  "language_info": {
   "codemirror_mode": {
    "name": "ipython",
    "version": 2
   },
   "file_extension": ".py",
   "mimetype": "text/x-python",
   "name": "python",
   "nbconvert_exporter": "python",
   "pygments_lexer": "ipython2",
   "version": "2.7.12"
  }
 },
 "nbformat": 4,
 "nbformat_minor": 0
}
