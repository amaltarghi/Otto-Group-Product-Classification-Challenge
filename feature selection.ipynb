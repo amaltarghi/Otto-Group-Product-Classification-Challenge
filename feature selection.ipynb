{
 "cells": [
  {
   "cell_type": "code",
   "execution_count": 35,
   "metadata": {
    "collapsed": false
   },
   "outputs": [
    {
     "name": "stdout",
     "output_type": "stream",
     "text": [
      "[[ 1  0  0 ...,  0  0  0]\n",
      " [ 0  0  0 ...,  0  0  0]\n",
      " [ 0  0  0 ...,  0  0  0]\n",
      " ..., \n",
      " [ 0  0  0 ...,  0  0  0]\n",
      " [ 1  0  0 ...,  3 10  0]\n",
      " [ 0  0  0 ...,  0  2  0]]\n"
     ]
    }
   ],
   "source": [
    "from sklearn.feature_selection import SelectKBest\n",
    "from sklearn.feature_selection import chi2\n",
    "import pandas as pd\n",
    "df = pd.read_csv('/home/amal/Téléchargements/train1.csv')\n",
    "features = list(df.columns[1:94])\n",
    "attribus = df[features]\n",
    "classe = df['target']\n",
    "X_new = SelectKBest(chi2, k=90).fit_transform(attribus ,classe)\n",
    "X_new.shape\n",
    "print(X_new)\n",
    "\n",
    "\n",
    "\n"
   ]
  }
 ],
 "metadata": {
  "kernelspec": {
   "display_name": "Python 2",
   "language": "python",
   "name": "python2"
  },
  "language_info": {
   "codemirror_mode": {
    "name": "ipython",
    "version": 2
   },
   "file_extension": ".py",
   "mimetype": "text/x-python",
   "name": "python",
   "nbconvert_exporter": "python",
   "pygments_lexer": "ipython2",
   "version": "2.7.12"
  }
 },
 "nbformat": 4,
 "nbformat_minor": 1
}
