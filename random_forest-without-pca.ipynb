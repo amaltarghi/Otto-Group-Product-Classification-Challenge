{
 "cells": [
  {
   "cell_type": "code",
   "execution_count": 1,
   "metadata": {
    "collapsed": false
   },
   "outputs": [],
   "source": [
    "import pandas as pd\n",
    "import numpy as np\n",
    "import scipy as sp\n",
    "from sklearn.ensemble import RandomForestClassifier\n",
    "from sklearn.model_selection import train_test_split\n",
    "from sklearn.metrics import accuracy_score \n",
    "from sklearn.model_selection import cross_val_score , KFold\n",
    "\n",
    "#from sklearn import linear_model, cross_validation"
   ]
  },
  {
   "cell_type": "code",
   "execution_count": 4,
   "metadata": {
    "collapsed": false
   },
   "outputs": [
    {
     "name": "stdout",
     "output_type": "stream",
     "text": [
      "0\n"
     ]
    }
   ],
   "source": [
    "df = pd.read_csv('/home/amal/Téléchargements/train1.csv')\n",
    "\n",
    "print(df.isnull().values.sum().sum())  # check if any value is Null in DataFrame\n",
    "features = list(df.columns[1:94])\n",
    "classe = df['target']\n",
    "attribus = df[features]\n",
    "\n"
   ]
  },
  {
   "cell_type": "code",
   "execution_count": 4,
   "metadata": {
    "collapsed": false
   },
   "outputs": [],
   "source": [
    "#X_train, X_test, y_train, y_test = train_test_split( attribus, classe, test_size=0.1, random_state=0)"
   ]
  },
  {
   "cell_type": "code",
   "execution_count": null,
   "metadata": {
    "collapsed": false
   },
   "outputs": [],
   "source": [
    "\n",
    "from sklearn.feature_selection import SelectFromModel\n",
    "rfe = RandomForestClassifier()\n",
    "rfe.fit(attribus, classe)\n",
    "rfe.feature_importances_  \n",
    "model = SelectFromModel(rfe, prefit=True)\n",
    "X_new = model.transform(attribus)\n",
    "X_new.shape               \n",
    "\n"
   ]
  },
  {
   "cell_type": "code",
   "execution_count": 70,
   "metadata": {
    "collapsed": false
   },
   "outputs": [
    {
     "name": "stdout",
     "output_type": "stream",
     "text": [
      "[0.78840757422321672, 0.78847148647734699, 0.7886168850722669, 0.78884313230591929, 0.78848826355842283, 0.78861739177852486]\n",
      "[0.78863368791483102, 0.7872431253103831, 0.79003954625060746, 0.78818193061795738, 0.78861786221094354, 0.7899428406759309]\n",
      "[0.79008824928731325, 0.78934527190210213, 0.78858561461858079, 0.78835912154738741, 0.78970053757996062, 0.7883584480010567]\n"
     ]
    }
   ],
   "source": [
    "#https://www.analyticsvidhya.com/blog/2015/06/tuning-random-forest-model/\n",
    "    \n",
    "max_features = [15, 16  , 30, 40 , 50 , 60, 70 , 80 , 90 ]\n",
    "k_scores = []\n",
    "k_scores1 = []\n",
    "k_scores2 = []\n",
    "for feature in max_features:\n",
    "    rf = RandomForestClassifier(n_estimators=10 ,max_features=feature)\n",
    "    scores = cross_val_score(rf, attribus,classe,  cv=10, scoring = 'accuracy')\n",
    "    scores1 = cross_val_score(rf, attribus,classe,  cv=10, scoring = 'precision_micro')\n",
    "    scores2 = cross_val_score(rf, attribus,classe,  cv=10, scoring = 'recall_micro')\n",
    "    k_scores.append(scores.mean())\n",
    "    k_scores1.append(scores1.mean())\n",
    "    k_scores2.append(scores2.mean())\n",
    "print k_scores\n",
    "print k_scores1\n",
    "print k_scores2\n",
    "\n",
    "\n",
    "                       \n",
    "\n",
    "\n"
   ]
  },
  {
   "cell_type": "code",
   "execution_count": 44,
   "metadata": {
    "collapsed": false
   },
   "outputs": [
    {
     "ename": "NameError",
     "evalue": "name 'max_features' is not defined",
     "output_type": "error",
     "traceback": [
      "\u001b[0;31m---------------------------------------------------------------------------\u001b[0m",
      "\u001b[0;31mNameError\u001b[0m                                 Traceback (most recent call last)",
      "\u001b[0;32m<ipython-input-44-5e91e3cde310>\u001b[0m in \u001b[0;36m<module>\u001b[0;34m()\u001b[0m\n\u001b[1;32m      1\u001b[0m \u001b[0;32mimport\u001b[0m \u001b[0mmatplotlib\u001b[0m\u001b[0;34m.\u001b[0m\u001b[0mpyplot\u001b[0m \u001b[0;32mas\u001b[0m \u001b[0mplt\u001b[0m\u001b[0;34m\u001b[0m\u001b[0m\n\u001b[1;32m      2\u001b[0m \u001b[0mget_ipython\u001b[0m\u001b[0;34m(\u001b[0m\u001b[0;34m)\u001b[0m\u001b[0;34m.\u001b[0m\u001b[0mmagic\u001b[0m\u001b[0;34m(\u001b[0m\u001b[0;34mu'matplotlib inline'\u001b[0m\u001b[0;34m)\u001b[0m\u001b[0;34m\u001b[0m\u001b[0m\n\u001b[0;32m----> 3\u001b[0;31m \u001b[0mplt\u001b[0m\u001b[0;34m.\u001b[0m\u001b[0mplot\u001b[0m\u001b[0;34m(\u001b[0m\u001b[0mmax_features\u001b[0m \u001b[0;34m,\u001b[0m\u001b[0mk_scores\u001b[0m\u001b[0;34m)\u001b[0m\u001b[0;34m\u001b[0m\u001b[0m\n\u001b[0m\u001b[1;32m      4\u001b[0m \u001b[0mplt\u001b[0m\u001b[0;34m.\u001b[0m\u001b[0mxlabel\u001b[0m \u001b[0;34m(\u001b[0m\u001b[0;34m'number of dimensions'\u001b[0m\u001b[0;34m)\u001b[0m\u001b[0;34m\u001b[0m\u001b[0m\n\u001b[1;32m      5\u001b[0m \u001b[0mplt\u001b[0m\u001b[0;34m.\u001b[0m\u001b[0mylabel\u001b[0m\u001b[0;34m(\u001b[0m\u001b[0;34m'score'\u001b[0m\u001b[0;34m)\u001b[0m\u001b[0;34m\u001b[0m\u001b[0m\n",
      "\u001b[0;31mNameError\u001b[0m: name 'max_features' is not defined"
     ]
    }
   ],
   "source": [
    "import matplotlib.pyplot as plt\n",
    "%matplotlib inline \n",
    "plt.plot(max_features ,k_scores)\n",
    "plt.xlabel ('number of dimensions')\n",
    "plt.ylabel('score')"
   ]
  },
  {
   "cell_type": "code",
   "execution_count": 72,
   "metadata": {
    "collapsed": false
   },
   "outputs": [
    {
     "data": {
      "text/plain": [
       "<matplotlib.text.Text at 0x7f2b237f98d0>"
      ]
     },
     "execution_count": 72,
     "metadata": {},
     "output_type": "execute_result"
    },
    {
     "data": {
      "image/png": "[encoded data removed]",
      "text/plain": [
       "<matplotlib.figure.Figure at 0x7f2b31164d10>"
      ]
     },
     "metadata": {},
     "output_type": "display_data"
    }
   ],
   "source": [
    "import matplotlib.pyplot as plt\n",
    "%matplotlib inline \n",
    "plt.plot(max_features ,k_scores1)\n",
    "plt.xlabel ('number of dimensions')\n",
    "plt.ylabel('score')"
   ]
  },
  {
   "cell_type": "code",
   "execution_count": 73,
   "metadata": {
    "collapsed": false
   },
   "outputs": [
    {
     "data": {
      "text/plain": [
       "<matplotlib.text.Text at 0x7f2b2372cd10>"
      ]
     },
     "execution_count": 73,
     "metadata": {},
     "output_type": "execute_result"
    },
    {
     "data": {
      "image/png": "[encoded data removed]",
      "text/plain": [
       "<matplotlib.figure.Figure at 0x7f2b237074d0>"
      ]
     },
     "metadata": {},
     "output_type": "display_data"
    }
   ],
   "source": [
    "import matplotlib.pyplot as plt\n",
    "%matplotlib inline \n",
    "plt.plot(max_features ,k_scores2)\n",
    "plt.xlabel ('number of dimensions')\n",
    "plt.ylabel('Score')"
   ]
  },
  {
   "cell_type": "code",
   "execution_count": 5,
   "metadata": {
    "collapsed": false
   },
   "outputs": [
    {
     "name": "stdout",
     "output_type": "stream",
     "text": [
      "(\"score d'entrainement:\", 0.97459517114321725)\n"
     ]
    }
   ],
   "source": [
    "#rf.fit(X_train, y_train) # fit the data to the algorithm\n",
    "#1.b. n_estimators :\n",
    "#This is the number of trees you want to build before taking the maximum voting or averages of predictions. Higher number of trees give you better performance but makes your code slower. You should choose as high value\n",
    "#as your processor can handle because this makes your predictions stronger and more stable.\n",
    "\n",
    "# choose the precision i need to improove who are true positive\n",
    "\n",
    "rfe = RandomForestClassifier(n_estimators=10 ,max_features=25, min_samples_leaf =1, min_samples_split =5)\n",
    "rfe.fit(attribus, classe)\n",
    "print(\"score d'entrainement:\", rfe.score(attribus,classe))\n",
    "#scores = cross_val_score(rfe, attribus,classe,  cv=10, scoring = 'accuracy')\n",
    "#print scores.mean()"
   ]
  },
  {
   "cell_type": "code",
   "execution_count": 29,
   "metadata": {
    "collapsed": false
   },
   "outputs": [],
   "source": [
    "#rf.fit(X_train,y_train,)\n",
    "#dec = rf.predict(X_test)\n",
    "#print (' accuracy is ' , accuracy_score(y_test,dec))\n",
    "\n",
    "#print(rf.score(X_test, y_test))"
   ]
  },
  {
   "cell_type": "code",
   "execution_count": 6,
   "metadata": {
    "collapsed": false
   },
   "outputs": [
    {
     "name": "stdout",
     "output_type": "stream",
     "text": [
      "predict result is: \n",
      "[4 6 6 ..., 3 2 2]\n",
      "(144368,)\n"
     ]
    }
   ],
   "source": [
    "df1 = pd.read_csv('/home/amal/Téléchargements/test.csv')\n",
    "test_data = df1.as_matrix()\n",
    "test_data = np.delete(test_data, 0 , axis=1)\n",
    "#print(test_data)\n",
    "#print (test_data.shape)\n",
    "print 'predict result is: '\n",
    "prediction= rfe.predict(test_data)\n",
    "#print(prediction)\n",
    "print (prediction)\n",
    "print(prediction.shape)"
   ]
  },
  {
   "cell_type": "code",
   "execution_count": 7,
   "metadata": {
    "collapsed": false
   },
   "outputs": [
    {
     "name": "stdout",
     "output_type": "stream",
     "text": [
      "[[     1      0      0 ...,      0      0      0]\n",
      " [     2      0      0 ...,      0      0      0]\n",
      " [     3      0      0 ...,      0      0      0]\n",
      " ..., \n",
      " [144366      0      0 ...,      0      0      0]\n",
      " [144367      0      1 ...,      0      0      0]\n",
      " [144368      0      1 ...,      0      0      0]]\n"
     ]
    }
   ],
   "source": [
    "#submission file\n",
    "tmp_array = [0,0,0,0,0,0,0,0,0,0]\n",
    "output_matrix = []\n",
    "for i in range(0,prediction.shape[0]):\n",
    "    tmp_array[prediction[i]]=1\n",
    "    tmp_array[0]=i+1\n",
    "    output_matrix.append(tmp_array[0:10])\n",
    "    tmp_array[prediction[i]] = 0\n",
    "print(np.array(output_matrix))\n",
    "np.savetxt(\"/home/amal/random_search_l10_.csv\", np.array(output_matrix), fmt='%i', delimiter=\",\" , header='id,Class_1,Class_2,Class_3,Class_4,Class_5,Class_6,Class_7,Class_8,Class_9', comments='')"
   ]
  }
 ],
 "metadata": {
  "kernelspec": {
   "display_name": "Python 2",
   "language": "python",
   "name": "python2"
  },
  "language_info": {
   "codemirror_mode": {
    "name": "ipython",
    "version": 2
   },
   "file_extension": ".py",
   "mimetype": "text/x-python",
   "name": "python",
   "nbconvert_exporter": "python",
   "pygments_lexer": "ipython2",
   "version": "2.7.12"
  }
 },
 "nbformat": 4,
 "nbformat_minor": 1
}
