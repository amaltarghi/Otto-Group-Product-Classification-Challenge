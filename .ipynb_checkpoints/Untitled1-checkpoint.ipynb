{
 "cells": [
  {
   "cell_type": "code",
   "execution_count": 1,
   "metadata": {
    "collapsed": false
   },
   "outputs": [],
   "source": [
    "import pandas as pd\n",
    "import numpy as np\n",
    "import scipy as sp\n",
    "from sklearn.ensemble import RandomForestClassifier\n",
    "from sklearn.model_selection import train_test_split\n",
    "from sklearn.metrics import accuracy_score\n",
    "from sklearn.model_selection import cross_val_score"
   ]
  },
  {
   "cell_type": "code",
   "execution_count": 34,
   "metadata": {
    "collapsed": false
   },
   "outputs": [],
   "source": [
    "df = pd.read_csv('/home/amal/Téléchargements/train1.csv')\n",
    "features = list(df.columns[1:94])\n",
    "\n",
    "classe = df['target']\n",
    "attribus = df[features]\n"
   ]
  },
  {
   "cell_type": "code",
   "execution_count": 3,
   "metadata": {
    "collapsed": false
   },
   "outputs": [],
   "source": [
    "#X_train, X_test, y_train, y_test = train_test_split( attribus, classe, test_size=0.1, random_state=0)"
   ]
  },
  {
   "cell_type": "code",
   "execution_count": 41,
   "metadata": {
    "collapsed": false
   },
   "outputs": [
    {
     "name": "stdout",
     "output_type": "stream",
     "text": [
      "(\"score d'entrainement:\", 1.0)\n"
     ]
    }
   ],
   "source": [
    "\n",
    "\n",
    "rf = RandomForestClassifier(n_estimators=500)\n",
    "#rf.fit(X_train, y_train) # fit the data to the algorithm\n",
    "rf.fit(attribus, classe)\n",
    "print(\"score d'entrainement:\", rf.score(attribus,classe))\n",
    "\n",
    "#scores = cross_val_score(rf, X_train,y_train)\n",
    "#print(scores.mean())                             \n",
    "\n",
    "\n"
   ]
  },
  {
   "cell_type": "code",
   "execution_count": 31,
   "metadata": {
    "collapsed": false
   },
   "outputs": [],
   "source": [
    "#rf.fit(X_train,y_train,)\n",
    "#dec = rf.predict(X_test)\n",
    "#print (' accuracy is ' , accuracy_score(y_test,dec))\n",
    "\n",
    "#print(rf.score(X_test, y_test))"
   ]
  },
  {
   "cell_type": "code",
   "execution_count": 42,
   "metadata": {
    "collapsed": false
   },
   "outputs": [
    {
     "name": "stdout",
     "output_type": "stream",
     "text": [
      "predict result is: \n",
      "[4 6 6 ..., 2 2 2]\n",
      "(144368,)\n"
     ]
    }
   ],
   "source": [
    "df1 = pd.read_csv('/home/amal/Téléchargements/test.csv')\n",
    "test_data = df1.as_matrix()\n",
    "test_data = np.delete(test_data, 0 , axis=1)\n",
    "#print(test_data)\n",
    "#print (test_data.shape)\n",
    "print 'predict result is: '\n",
    "prediction= rf.predict(test_data)\n",
    "#print(prediction)\n",
    "print (prediction)\n",
    "print(prediction.shape)"
   ]
  },
  {
   "cell_type": "code",
   "execution_count": 43,
   "metadata": {
    "collapsed": false
   },
   "outputs": [
    {
     "name": "stdout",
     "output_type": "stream",
     "text": [
      "[[     1      0      0 ...,      0      0      0]\n",
      " [     2      0      0 ...,      0      0      0]\n",
      " [     3      0      0 ...,      0      0      0]\n",
      " ..., \n",
      " [144366      0      1 ...,      0      0      0]\n",
      " [144367      0      1 ...,      0      0      0]\n",
      " [144368      0      1 ...,      0      0      0]]\n"
     ]
    }
   ],
   "source": [
    "tmp_array = [0,0,0,0,0,0,0,0,0,0]\n",
    "output_matrix = []\n",
    "for i in range(0,prediction.shape[0]):\n",
    "    tmp_array[prediction[i]]=1\n",
    "    tmp_array[0]=i+1\n",
    "    output_matrix.append(tmp_array[0:10])\n",
    "    tmp_array[prediction[i]] = 0\n",
    "print(np.array(output_matrix))\n",
    "np.savetxt(\"/home/amal/random_search.csv\", np.array(output_matrix), fmt='%i', delimiter=\",\")"
   ]
  },
  {
   "cell_type": "code",
   "execution_count": null,
   "metadata": {
    "collapsed": true
   },
   "outputs": [],
   "source": []
  }
 ],
 "metadata": {
  "kernelspec": {
   "display_name": "Python 2",
   "language": "python",
   "name": "python2"
  },
  "language_info": {
   "codemirror_mode": {
    "name": "ipython",
    "version": 2
   },
   "file_extension": ".py",
   "mimetype": "text/x-python",
   "name": "python",
   "nbconvert_exporter": "python",
   "pygments_lexer": "ipython2",
   "version": "2.7.12"
  }
 },
 "nbformat": 4,
 "nbformat_minor": 1
}
