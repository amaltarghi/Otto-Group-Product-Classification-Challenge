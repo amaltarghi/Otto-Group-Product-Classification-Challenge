{
 "cells": [
  {
   "cell_type": "code",
   "execution_count": null,
   "metadata": {
    "collapsed": true
   },
   "outputs": [],
   "source": [
    "from sklearn.feature_selection import VarianceThreshold\n",
    "df = pd.read_csv('/home/amal/Téléchargements/train1.csv')\n",
    "sel = VarianceThreshold(threshold=(.8 * (1 - .8)))\n",
    ">>> sel.fit_transform(X)\n",
    "df = pd.read_csv('/home/amal/Téléchargements/train1.csv')\n",
    "features = list(df.columns[1:94])\n",
    "\n",
    "classe = df['target']"
   ]
  }
 ],
 "metadata": {
  "kernelspec": {
   "display_name": "Python 2",
   "language": "python",
   "name": "python2"
  },
  "language_info": {
   "codemirror_mode": {
    "name": "ipython",
    "version": 2
   },
   "file_extension": ".py",
   "mimetype": "text/x-python",
   "name": "python",
   "nbconvert_exporter": "python",
   "pygments_lexer": "ipython2",
   "version": "2.7.12"
  }
 },
 "nbformat": 4,
 "nbformat_minor": 1
}
