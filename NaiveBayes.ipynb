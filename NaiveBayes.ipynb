{
 "cells": [
  {
   "cell_type": "code",
   "execution_count": 1,
   "metadata": {
    "collapsed": false
   },
   "outputs": [],
   "source": [
    "import numpy as np # linear algebra\n",
    "import pandas as pd # data processing, CSV file I/O (e.g. pd.read_csv)\n",
    "import seaborn as sb"
   ]
  },
  {
   "cell_type": "code",
   "execution_count": 2,
   "metadata": {
    "collapsed": false
   },
   "outputs": [
    {
     "name": "stdout",
     "output_type": "stream",
     "text": [
      "   id  feat_1  feat_2  feat_3  feat_4  feat_5  feat_6  feat_7  feat_8  feat_9  \\\n",
      "0   1       1       0       0       0       0       0       0       0       0   \n",
      "1   2       0       0       0       0       0       0       0       1       0   \n",
      "2   3       0       0       0       0       0       0       0       1       0   \n",
      "3   4       1       0       0       1       6       1       5       0       0   \n",
      "4   5       0       0       0       0       0       0       0       0       0   \n",
      "\n",
      "    ...     feat_85  feat_86  feat_87  feat_88  feat_89  feat_90  feat_91  \\\n",
      "0   ...           1        0        0        0        0        0        0   \n",
      "1   ...           0        0        0        0        0        0        0   \n",
      "2   ...           0        0        0        0        0        0        0   \n",
      "3   ...           0        1        2        0        0        0        0   \n",
      "4   ...           1        0        0        0        0        1        0   \n",
      "\n",
      "   feat_92  feat_93   target  \n",
      "0        0        0  Class_1  \n",
      "1        0        0  Class_1  \n",
      "2        0        0  Class_1  \n",
      "3        0        0  Class_1  \n",
      "4        0        0  Class_1  \n",
      "\n",
      "[5 rows x 95 columns]\n"
     ]
    }
   ],
   "source": [
    "#explore the data\n",
    "\n",
    "train = pd.read_csv(r\"C:\\Users\\GEOL05\\Desktop\\Master AIC\\Project-TC1\\train.csv\")\n",
    "#print(\"Training set has {0[0]} rows and {0[1]} columns\".format(train.shape))\n",
    "print(train.head())\n",
    "\n",
    "test = pd.read_csv(r\"C:\\Users\\GEOL05\\Desktop\\Master AIC\\Project-TC1\\test.csv\")\n",
    "#print(\"Test set has {0[0]} rows and {0[1]} columns\".format(test.shape))\n",
    "#print(test.head())"
   ]
  },
  {
   "cell_type": "code",
   "execution_count": 3,
   "metadata": {
    "collapsed": false
   },
   "outputs": [
    {
     "name": "stderr",
     "output_type": "stream",
     "text": [
      "C:\\Users\\GEOL05\\Anaconda3\\lib\\site-packages\\ipykernel\\__main__.py:6: FutureWarning: order is deprecated, use sort_values(...)\n"
     ]
    },
    {
     "data": {
      "text/plain": [
       "<matplotlib.axes._subplots.AxesSubplot at 0x170578c2630>"
      ]
     },
     "execution_count": 3,
     "metadata": {},
     "output_type": "execute_result"
    }
   ],
   "source": [
    "#sum features\n",
    "featuresSum = train.sum()\n",
    "#print(featuresSum)\n",
    "#print(type(train))\n",
    "#plot the sum of features in desceding order\n",
    "featuresSum.drop(['target', 'id']).order().plot(kind='barh', figsize=(8,16))"
   ]
  },
  {
   "cell_type": "code",
   "execution_count": 4,
   "metadata": {
    "collapsed": false
   },
   "outputs": [
    {
     "data": {
      "text/plain": [
       "<matplotlib.axes._subplots.AxesSubplot at 0x170578c2630>"
      ]
     },
     "execution_count": 4,
     "metadata": {},
     "output_type": "execute_result"
    }
   ],
   "source": [
    "#Clases are String like \"Class_1\" => we map them as numbers from 0-8 (9 classes)\n",
    "\n",
    "class_range = range(1, 10)\n",
    "class_dict = {}\n",
    "\n",
    "for n in class_range:\n",
    "    class_dict['Class_{}'.format(n)] = n-1\n",
    "\n",
    "#print(class_dict)\n",
    "#print(train.head())\n",
    "train['target'] = train['target'].map(class_dict)\n",
    "#print(train['target'].head())\n",
    "\n",
    "#next we plot the count for each class unsing seaborn libary\n",
    "sb.countplot(x='target', data= train)"
   ]
  },
  {
   "cell_type": "code",
   "execution_count": 6,
   "metadata": {
    "collapsed": true
   },
   "outputs": [],
   "source": [
    "#next we create training and testing sets\n",
    "X_train = train.drop([\"id\", \"target\"], axis=1)\n",
    "Y_train = train[\"target\"].copy()\n",
    "X_test = test.drop(\"id\", axis = 1).copy()"
   ]
  },
  {
   "cell_type": "code",
   "execution_count": 7,
   "metadata": {
    "collapsed": false
   },
   "outputs": [
    {
     "name": "stdout",
     "output_type": "stream",
     "text": [
      "[3 5 5 1 0 1 7 1 1 2]\n"
     ]
    }
   ],
   "source": [
    "#Classification \n",
    "\n",
    "from sklearn.naive_bayes import GaussianNB\n",
    "from sklearn.naive_bayes import MultinomialNB\n",
    "clf = GaussianNB()\n",
    "#clf = MultinomialNB()\n",
    "clf.fit(X_train, Y_train)\n",
    "Y_pred = clf.predict(X_test)\n",
    "print(Y_pred[0:10])"
   ]
  },
  {
   "cell_type": "code",
   "execution_count": 8,
   "metadata": {
    "collapsed": false
   },
   "outputs": [
    {
     "name": "stdout",
     "output_type": "stream",
     "text": [
      "144368\n"
     ]
    }
   ],
   "source": [
    "print(len(Y_pred))"
   ]
  },
  {
   "cell_type": "code",
   "execution_count": 8,
   "metadata": {
    "collapsed": false
   },
   "outputs": [],
   "source": [
    "#Make a submission based on model \"sample_submission.csv\"\n",
    "\n",
    "submission = pd.DataFrame({ \"id\": test[\"id\"]})\n",
    "\n",
    "Y_final = np.zeros((len(Y_pred), 9), dtype=np.int)\n",
    "\n",
    "for idx in range(len(Y_pred)):\n",
    "    Y_final[idx][Y_pred[idx]] = 1\n",
    "\n",
    "i = 0\n",
    "\n",
    "for num in class_range:\n",
    "    col_name = str(\"Class_{}\".format(num))\n",
    "    submission[col_name] = Y_final[:, i]\n",
    "    i = i + 1\n",
    "    \n",
    "submission.to_csv('otto.csv', index=False)"
   ]
  },
  {
   "cell_type": "code",
   "execution_count": null,
   "metadata": {
    "collapsed": true
   },
   "outputs": [],
   "source": []
  }
 ],
 "metadata": {
  "anaconda-cloud": {},
  "kernelspec": {
   "display_name": "Python [Root]",
   "language": "python",
   "name": "Python [Root]"
  },
  "language_info": {
   "codemirror_mode": {
    "name": "ipython",
    "version": 3
   },
   "file_extension": ".py",
   "mimetype": "text/x-python",
   "name": "python",
   "nbconvert_exporter": "python",
   "pygments_lexer": "ipython3",
   "version": "3.5.2"
  }
 },
 "nbformat": 4,
 "nbformat_minor": 0
}
