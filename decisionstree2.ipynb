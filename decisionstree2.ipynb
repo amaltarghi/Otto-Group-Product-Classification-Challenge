{
 "cells": [
  {
   "cell_type": "code",
   "execution_count": 1,
   "metadata": {
    "collapsed": false
   },
   "outputs": [],
   "source": [
    "# Decisions trees\n",
    "\n",
    "import pandas as pd\n",
    "import numpy as np\n",
    "from sklearn.tree import DecisionTreeClassifier, export_graphviz\n",
    "from subprocess import check_call\n",
    "#from sklearn.cross_validation import train_test_split\n",
    "\n",
    "from sklearn.model_selection import train_test_split\n",
    "from sklearn import tree\n",
    "from sklearn.metrics import accuracy_score\n",
    "\n",
    "\n"
   ]
  },
  {
   "cell_type": "code",
   "execution_count": 2,
   "metadata": {
    "collapsed": false
   },
   "outputs": [],
   "source": [
    "df = pd.read_csv('/home/amal/Téléchargements/train1.csv')\n",
    "features = list(df.columns[1:94])\n",
    "\n",
    "classe = df['target']\n",
    "attribus = df[features]\n",
    "\n",
    "\n",
    "#print(\" features:\", features)\n",
    "#df.head()\n",
    "#print(\"* our classes are:\", df[\"target\"].unique())\n",
    "\n"
   ]
  },
  {
   "cell_type": "code",
   "execution_count": 3,
   "metadata": {
    "collapsed": false
   },
   "outputs": [
    {
     "data": {
      "text/plain": [
       "((55690, 93), (6188, 93), (55690,), (6188,))"
      ]
     },
     "execution_count": 3,
     "metadata": {},
     "output_type": "execute_result"
    }
   ],
   "source": [
    "# split data into validation and \n",
    "\n",
    "#msk = np.random.rand(len(df)) < 0.9\n",
    "#train= df[msk]\n",
    "#cross_validation.train_test_split(df, labels, test_size=0.2)\n",
    "\n",
    "\n",
    "\n",
    "X_train, X_test, y_train, y_test = train_test_split( attribus, classe, test_size=0.1, random_state=0)\n",
    "\n",
    "#print(y_train)\n",
    "#test data\n",
    "#validation= df[~msk]\n",
    "#y_test = validation['target']\n",
    "#X_test = validation[features]\n",
    "\n",
    "\n",
    "\n",
    "X_train.shape, X_test.shape, y_train.shape, y_test.shape\n"
   ]
  },
  {
   "cell_type": "code",
   "execution_count": 35,
   "metadata": {
    "collapsed": false
   },
   "outputs": [
    {
     "name": "stdout",
     "output_type": "stream",
     "text": [
      "(\"score d'entrainement:\", 0.86036990483031062)\n"
     ]
    }
   ],
   "source": [
    "# Fitting the model\n",
    "dt = DecisionTreeClassifier(criterion='gini', splitter='best', max_depth=None, min_samples_split=2, min_samples_leaf=5, min_weight_fraction_leaf=0.5, max_features=None, random_state=None, max_leaf_nodes=None, min_impurity_split=1e-07, class_weight=None, presort=True)\n",
    "dt= dt.fit(X_train, y_train)\n",
    "print(\"score d'entrainement:\", dt.score(X_train,y_train))"
   ]
  },
  {
   "cell_type": "code",
   "execution_count": 144,
   "metadata": {
    "collapsed": false
   },
   "outputs": [],
   "source": []
  },
  {
   "cell_type": "code",
   "execution_count": null,
   "metadata": {
    "collapsed": false
   },
   "outputs": [],
   "source": [
    "#construct the graph and convert it to pdf format\n",
    "import pydotplus \n",
    "dot_data = tree.export_graphviz(dt, out_file=None) \n",
    "graph = pydotplus.graph_from_dot_data(dot_data) \n",
    "graph.write_pdf(\"arbress.pdf\") "
   ]
  },
  {
   "cell_type": "code",
   "execution_count": 36,
   "metadata": {
    "collapsed": false
   },
   "outputs": [
    {
     "name": "stdout",
     "output_type": "stream",
     "text": [
      "(' accuracy is ', 0.72155785391079508)\n"
     ]
    }
   ],
   "source": [
    "dec = dt.predict(X_test)\n",
    "print (' accuracy is ' , accuracy_score(y_test,dec))"
   ]
  },
  {
   "cell_type": "code",
   "execution_count": 6,
   "metadata": {
    "collapsed": false
   },
   "outputs": [
    {
     "name": "stdout",
     "output_type": "stream",
     "text": [
      "predict result is: \n",
      "[2 8 6 ..., 2 2 2]\n",
      "(144368,)\n"
     ]
    }
   ],
   "source": [
    "#test\n",
    "\n",
    "df1 = pd.read_csv('/home/amal/Téléchargements/test.csv')\n",
    "test_data = df1.as_matrix()\n",
    "test_data = np.delete(test_data, 0 , axis=1)\n",
    "#print(test_data)\n",
    "#print (test_data.shape)\n",
    "print 'predict result is: '\n",
    "prediction= dt.predict(test_data)\n",
    "#print(prediction)\n",
    "print (prediction)\n",
    "print(prediction.shape)\n"
   ]
  },
  {
   "cell_type": "code",
   "execution_count": 7,
   "metadata": {
    "collapsed": false
   },
   "outputs": [
    {
     "name": "stdout",
     "output_type": "stream",
     "text": [
      "[[     1      0      1 ...,      0      0      0]\n",
      " [     2      0      0 ...,      0      1      0]\n",
      " [     3      0      0 ...,      0      0      0]\n",
      " ..., \n",
      " [144366      0      1 ...,      0      0      0]\n",
      " [144367      0      1 ...,      0      0      0]\n",
      " [144368      0      1 ...,      0      0      0]]\n"
     ]
    }
   ],
   "source": [
    "#submission file\n",
    "\n",
    "tmp_array = [0,0,0,0,0,0,0,0,0,0]\n",
    "output_matrix = []\n",
    "for i in range(0,prediction.shape[0]):\n",
    "    tmp_array[prediction[i]]=1\n",
    "    tmp_array[0]=i+1\n",
    "    output_matrix.append(tmp_array[0:10])\n",
    "    tmp_array[prediction[i]] = 0\n",
    "print(np.array(output_matrix))\n",
    "np.savetxt(\"/home/amal/mwi11.csv\", np.array(output_matrix), fmt='%i', delimiter=\",\")"
   ]
  },
  {
   "cell_type": "markdown",
   "metadata": {},
   "source": [
    "### "
   ]
  },
  {
   "cell_type": "markdown",
   "metadata": {},
   "source": [
    "\n"
   ]
  }
 ],
 "metadata": {
  "kernelspec": {
   "display_name": "Python 2",
   "language": "python",
   "name": "python2"
  },
  "language_info": {
   "codemirror_mode": {
    "name": "ipython",
    "version": 2
   },
   "file_extension": ".py",
   "mimetype": "text/x-python",
   "name": "python",
   "nbconvert_exporter": "python",
   "pygments_lexer": "ipython2",
   "version": "2.7.12"
  }
 },
 "nbformat": 4,
 "nbformat_minor": 1
}
